{
 "cells": [
  {
   "cell_type": "markdown",
   "metadata": {
    "id": "y871RZtRhCEH"
   },
   "source": [
    "# <font color='red'>BackPropagation</font>"
   ]
  },
  {
   "cell_type": "markdown",
   "metadata": {
    "id": "LqePYi-4mFvK"
   },
   "source": [
    "**There will be some functions that start with the word \"grader\" ex: grader_sigmoid(), grader_forwardprop(), grader_backprop() etc, you should not change those function definition.<br><br>Every Grader function has to return True.**"
   ]
  },
  {
   "cell_type": "markdown",
   "metadata": {
    "id": "0huUQ0byiI0I"
   },
   "source": [
    "## <font color='red'>Loading data </font>"
   ]
  },
  {
   "cell_type": "code",
   "execution_count": 1,
   "metadata": {
    "colab": {
     "base_uri": "https://localhost:8080/",
     "height": 50
    },
    "id": "1hSje5CBgcUb",
    "outputId": "66535fa5-f8a2-4792-bc62-7842c93480f7"
   },
   "outputs": [
    {
     "name": "stdout",
     "output_type": "stream",
     "text": [
      "(506, 6)\n",
      "(506, 5) (506,)\n"
     ]
    }
   ],
   "source": [
    "import pickle\n",
    "import numpy as np\n",
    "from tqdm import tqdm\n",
    "import matplotlib.pyplot as plt\n",
    "\n",
    "with open('data.pkl', 'rb') as f:\n",
    "    data = pickle.load(f)\n",
    "print(data.shape)\n",
    "X = data[:, :5]\n",
    "y = data[:, -1]\n",
    "print(X.shape, y.shape)"
   ]
  },
  {
   "cell_type": "markdown",
   "metadata": {
    "id": "5JL-0soQistC"
   },
   "source": [
    "# <font color='red'>Computational graph</font>"
   ]
  },
  {
   "cell_type": "markdown",
   "metadata": {
    "id": "nREnTTJ3i0Vd"
   },
   "source": [
    "<img src='https://i.imgur.com/seSGbNS.png'>"
   ]
  },
  {
   "cell_type": "markdown",
   "metadata": {
    "id": "DSPX_H_4i_HT"
   },
   "source": [
    "\n",
    "*  **If you observe the graph, we are having input features [f1, f2, f3, f4, f5] and 9 weights [w1, w2, w3, w4, w5, w6,    w7, w8, w9]**.<br><br>\n",
    "*  **The final output of this graph is a value L which is computed as (Y-Y')^2** "
   ]
  },
  {
   "cell_type": "markdown",
   "metadata": {
    "id": "D54eDEv6jkO4"
   },
   "source": [
    "# <font color='red'>Task 1: Implementing backpropagation and Gradient checking </font>"
   ]
  },
  {
   "cell_type": "markdown",
   "metadata": {
    "id": "qocI1Vzqkod9"
   },
   "source": [
    "<font color='blue'><b>Check this video for better understanding of the computational graphs and back propagation</font>"
   ]
  },
  {
   "cell_type": "code",
   "execution_count": 2,
   "metadata": {
    "colab": {
     "base_uri": "https://localhost:8080/",
     "height": 521
    },
    "id": "Wb5WMdwJinlX",
    "outputId": "b10489ec-890a-445a-c6a4-a3e0ea2a66be"
   },
   "outputs": [
    {
     "data": {
      "image/jpeg": "[encoded data removed]",
      "text/html": [
       "\n",
       "        <iframe\n",
       "            width=\"1000\"\n",
       "            height=\"500\"\n",
       "            src=\"https://www.youtube.com/embed/i94OvYb6noo\"\n",
       "            frameborder=\"0\"\n",
       "            allowfullscreen\n",
       "        ></iframe>\n",
       "        "
      ],
      "text/plain": [
       "<IPython.lib.display.YouTubeVideo at 0x233a920d580>"
      ]
     },
     "execution_count": 2,
     "metadata": {},
     "output_type": "execute_result"
    }
   ],
   "source": [
    "from IPython.display import YouTubeVideo\n",
    "YouTubeVideo('i94OvYb6noo',width=\"1000\",height=\"500\")"
   ]
  },
  {
   "cell_type": "markdown",
   "metadata": {
    "id": "2jecTyVRlh-6"
   },
   "source": [
    "\n",
    "*  <b>Write two functions<br>\n",
    "    *  Forward propagation</b>(Write your code in<font color='blue'> def forward_propagation()</b></font>)<br><br>\n",
    "    For easy debugging, we will break the computational graph into 3 parts.\n",
    "\n",
    "    <font color='green'><b>Part 1</b></font></b>\n",
    "    <img src='https://i.imgur.com/0xUaxy6.png'><br><br>\n",
    "    <font color='green'><b>Part 2</b></font></b><br>\n",
    "    <img src='https://i.imgur.com/J29pAJL.png'><br><br>\n",
    "    <font color='green'><b>Part 3</b></font></b>\n",
    "    <img src='https://i.imgur.com/vMyCsd9.png'>\n",
    "\n",
    "    <pre>\n",
    "    <font color='green'>\n",
    "def forward_propagation(X, y, W):\n",
    "        <font color='grey'>\n",
    "        # X: input data point, note that in this assignment you are having 5-d data points\n",
    "        # y: output varible\n",
    "        # W: weight array, its of length 9, W[0] corresponds to w1 in graph, W[1] corresponds to w2 in graph, <br>         ..., W[8] corresponds to w9 in graph.  \n",
    "        # you have to return the following variables\n",
    "        # exp= part1 (compute the forward propagation until exp and then store the values in exp)\n",
    "        # tanh =part2(compute the forward propagation until tanh and then store the values in tanh)\n",
    "        # sig = part3(compute the forward propagation until sigmoid and then store the values in sig)\n",
    "        # now compute remaining values from computional graph and get y'\n",
    "        # write code to compute the value of L=(y-y')^2\n",
    "        # compute derivative of L  w.r.to Y' and store it in dl\n",
    "        # Create a dictionary to store all the intermediate values\n",
    "        # store L, exp,tanh,sig,dl variables\n",
    "        </font>\n",
    "        return (dictionary, which you might need to use for back propagation)\n",
    "        <font color='grey'>\n",
    "        </font>\n",
    "</font>\n",
    "</pre>\n",
    "    *  <b>Backward propagation</b>(Write your code in<font color='blue'> def backward_propagation()</b></font>)\n",
    "    </b>\n",
    "    <pre>\n",
    "    <font color='green'>\n",
    "    def backward_propagation(L, W,dictionary):\n",
    "        <font color='grey'>\n",
    "        # L: the loss we calculated for the current point\n",
    "        # dictionary: the outputs of the forward_propagation() function\n",
    "        # write code to compute the gradients of each weight [w1,w2,w3,...,w9]\n",
    "        # Hint: you can use dict type to store the required variables \n",
    "        # return dW, dW is a dictionary with gradients of all the weights\n",
    "        </font>\n",
    "        return dW\n",
    "        </font>\n",
    "</font>\n",
    "</pre>"
   ]
  },
  {
   "cell_type": "markdown",
   "metadata": {
    "id": "STS4NrQQc6OH"
   },
   "source": [
    " ## <font color='red'>Gradient clipping</font>"
   ]
  },
  {
   "cell_type": "markdown",
   "metadata": {
    "id": "XY7ivRNzdPok"
   },
   "source": [
    "<b> Check this  <a href='https://towardsdatascience.com/how-to-debug-a-neural-network-with-gradient-checking-41deec0357a9'>blog link</a> for more details on Gradient clipping"
   ]
  },
  {
   "cell_type": "markdown",
   "metadata": {
    "id": "BrsfpDoidtZ5"
   },
   "source": [
    " we know that the derivative of any function is\n",
    " \n",
    " $$\\lim_{\\epsilon\\to0}\\frac{f(x+\\epsilon)-f(x-\\epsilon)}{2\\epsilon}$$\n"
   ]
  },
  {
   "cell_type": "markdown",
   "metadata": {
    "id": "vUcmt0kPd02f"
   },
   "source": [
    "*  The definition above can be used as a numerical approximation of the derivative. Taking an epsilon small enough, the calculated approximation will have an error in the range of epsilon squared. \n",
    "\n",
    "*  In other words, if epsilon is 0.001, the approximation will be off by 0.00001.\n",
    "\n",
    "Therefore, we can use this to approximate the gradient, and in turn make sure that backpropagation is implemented properly. This forms the basis of <b>gradient checking!</b>"
   ]
  },
  {
   "cell_type": "markdown",
   "metadata": {
    "id": "pFSu16KCeU0x"
   },
   "source": [
    "## <Font color='blue'>Gradient checking example</font>"
   ]
  },
  {
   "cell_type": "markdown",
   "metadata": {
    "id": "Gz0mmT_xecfC"
   },
   "source": [
    "<font >\n",
    "lets understand the concept with a simple example:\n",
    "$f(w1,w2,x1,x2)=w_{1}^{2} . x_{1} + w_{2} . x_{2}$ \n",
    "\n",
    "from the above function , lets assume $w_{1}=1$, $w_{2}=2$, $x_{1}=3$, $x_{2}=4$ the gradient of $f$ w.r.t $w_{1}$ is\n",
    "\n",
    "\\begin{array} {lcl}\n",
    "\\frac{df}{dw_{1}} = dw_{1} &=&2.w_{1}.x_{1} \\\\& = &2.1.3\\\\& = &6\n",
    "\\end{array}\n",
    "\n",
    "\n",
    "let calculate the aproximate gradient of $w_{1}$ as mentinoned in the above formula and considering $\\epsilon=0.0001$\n",
    "\n",
    "\\begin{array} {lcl}\n",
    "dw_1^{approx} & = & \\frac{f(w1+\\epsilon,w2,x1,x2)-f(w1-\\epsilon,w2,x1,x2)}{2\\epsilon} \\\\ & = & \\frac{((1+0.0001)^{2} . 3 + 2 . 4) - ((1-0.0001)^{2} . 3 + 2 . 4)}{2\\epsilon} \\\\ & = & \\frac{(1.00020001 . 3 + 2 . 4) - (0.99980001. 3 + 2 . 4)}{2*0.0001} \\\\ & = & \\frac{(11.00060003) - (10.99940003)}{0.0002}\\\\ & = & 5.99999999999\n",
    "\\end{array}\n",
    "\n",
    "Then, we apply the following formula for gradient check: <i>gradient_check</i> = \n",
    "$\\frac{\\left\\Vert\\left (dW-dW^{approx}\\rm\\right) \\right\\Vert_2}{\\left\\Vert\\left (dW\\rm\\right) \\right\\Vert_2+\\left\\Vert\\left (dW^{approx}\\rm\\right) \\right\\Vert_2}$\n",
    "\n",
    "The equation above is basically the Euclidean distance normalized by the sum of the norm of the vectors. We use normalization in case that one of the vectors is very small.\n",
    "As a value for epsilon, we usually opt for 1e-7. Therefore, if gradient check return a value less than 1e-7, then it means that backpropagation was implemented correctly. Otherwise, there is potentially a mistake in your implementation. If the value exceeds 1e-3, then you are sure that the code is not correct.\n",
    "\n",
    "in our example: <i>gradient_check</i> $ = \\frac{(6 - 5.999999999994898)}{(6 + 5.999999999994898)} = 4.2514140356330737e^{-13}$\n",
    "\n",
    "you can mathamatically derive the same thing like this\n",
    "\n",
    "\\begin{array} {lcl}\n",
    "dw_1^{approx} & = & \\frac{f(w1+\\epsilon,w2,x1,x2)-f(w1-\\epsilon,w2,x1,x2)}{2\\epsilon} \\\\ & = & \\frac{((w_{1}+\\epsilon)^{2} . x_{1} + w_{2} . x_{2}) - ((w_{1}-\\epsilon)^{2} . x_{1} + w_{2} . x_{2})}{2\\epsilon} \\\\ & = & \\frac{4. \\epsilon.w_{1}. x_{1}}{2\\epsilon} \\\\ & = &  2.w_{1}.x_{1}\n",
    "\\end{array}\n"
   ]
  },
  {
   "cell_type": "markdown",
   "metadata": {
    "id": "f1BFQQaCermK"
   },
   "source": [
    "## <font color='red'> Implement Gradient checking </font> <br>\n",
    " (Write your code in <font color='blue'> def gradient_checking()</font>)"
   ]
  },
  {
   "cell_type": "markdown",
   "metadata": {
    "id": "GqpfA3AqfJba"
   },
   "source": [
    "**Algorithm** \n",
    "\n"
   ]
  },
  {
   "cell_type": "markdown",
   "metadata": {
    "id": "FL39KeRFfNoD"
   },
   "source": [
    "<pre>\n",
    "<font color='darkblue'>\n",
    "W = initilize_randomly\n",
    "def gradient_checking(data_point, W):<font color='grey'>\n",
    "    # compute the L value using forward_propagation()\n",
    "    # compute the gradients of W using backword_propagation()</font>\n",
    "    approx_gradients = []\n",
    "    for each wi weight value in W:<font color='grey'>\n",
    "        # add a small value to weight wi, and then find the values of L with the updated weights\n",
    "        # subtract a small value to weight wi, and then find the values of L with the updated weights\n",
    "        # compute the approximation gradients of weight wi</font>\n",
    "        approx_gradients.append(approximation gradients of weight wi)<font color='grey'>\n",
    "    # compare the gradient of weights W from backword_propagation() with the aproximation gradients of weights with <br>  gradient_check formula</font>\n",
    "    return gradient_check</font>\n",
    "<b>NOTE: you can do sanity check by checking all the return values of gradient_checking(),<br> they have to be zero. if not you have bug in your code\n",
    "</pre></b>"
   ]
  },
  {
   "cell_type": "markdown",
   "metadata": {
    "id": "0ufbFBFfhgL0"
   },
   "source": [
    "# <font color='red'> Task 2 : Optimizers </font>"
   ]
  },
  {
   "cell_type": "markdown",
   "metadata": {
    "id": "7zt05soYh1RM"
   },
   "source": [
    "* As a part of this task, you will be implementing 3 type of optimizers(methods to update weight)\n",
    "* Use the same computational graph that was mentioned above to do this task\n",
    "* Initilze the 9 weights from normal distribution with mean=0 and std=0.01"
   ]
  },
  {
   "cell_type": "markdown",
   "metadata": {
    "id": "CAyi7aSAicbr"
   },
   "source": [
    "**Check below video and <a href='https://cs231n.github.io/neural-networks-3/'>this</a> blog**"
   ]
  },
  {
   "cell_type": "code",
   "execution_count": 3,
   "metadata": {
    "colab": {
     "base_uri": "https://localhost:8080/",
     "height": 521
    },
    "id": "ZogcxiegkQpz",
    "outputId": "9b4e0235-e638-4f20-d9c1-ac3ca4fb3ce8"
   },
   "outputs": [
    {
     "data": {
      "image/jpeg": "[encoded data removed]",
      "text/html": [
       "\n",
       "        <iframe\n",
       "            width=\"1000\"\n",
       "            height=\"500\"\n",
       "            src=\"https://www.youtube.com/embed/gYpoJMlgyXA\"\n",
       "            frameborder=\"0\"\n",
       "            allowfullscreen\n",
       "        ></iframe>\n",
       "        "
      ],
      "text/plain": [
       "<IPython.lib.display.YouTubeVideo at 0x233a914aaf0>"
      ]
     },
     "execution_count": 3,
     "metadata": {},
     "output_type": "execute_result"
    }
   ],
   "source": [
    "from IPython.display import YouTubeVideo\n",
    "YouTubeVideo('gYpoJMlgyXA',width=\"1000\",height=\"500\")"
   ]
  },
  {
   "cell_type": "markdown",
   "metadata": {
    "id": "jmefh7ktjbaR"
   },
   "source": [
    "<font color='blue'><b>Algorithm</b>"
   ]
  },
  {
   "cell_type": "markdown",
   "metadata": {
    "id": "nAc4NudkjdNa"
   },
   "source": [
    "<pre>\n",
    "    for each epoch(1-100):\n",
    "        for each data point in your data:\n",
    "            using the functions forward_propagation() and backword_propagation() compute the gradients of weights\n",
    "            update the weigts with help of gradients  ex: w1 = w1-learning_rate*dw1\n",
    "</pre>"
   ]
  },
  {
   "cell_type": "markdown",
   "metadata": {
    "id": "_fdmPNqtjm3X"
   },
   "source": [
    "## <font color='red'> Implement below tasks</b>"
   ]
  },
  {
   "cell_type": "markdown",
   "metadata": {
    "id": "Ll9-CRsLjx_D"
   },
   "source": [
    "\n",
    "*  <b>Task 2.1</b>: you will be implementing the above algorithm with <b>Vanilla update</b> of weights<br><br>\n",
    "*  <b>Task 2.2</b>: you will be implementing the above algorithm with <b>Momentum update</b> of weights<br><br>\n",
    "*  <b>Task 2.3</b>: you will be implementing the above algorithm with <b>Adam update</b> of weights\n"
   ]
  },
  {
   "cell_type": "markdown",
   "metadata": {
    "id": "atp082demrUR"
   },
   "source": [
    "**Note : If you get any assertion error while running grader functions, please print the variables in grader functions and check which variable is returning False .Recheck your logic for that variable .**"
   ]
  },
  {
   "cell_type": "markdown",
   "metadata": {
    "id": "phG2WDkjkuIL"
   },
   "source": [
    "<br>\n",
    "<br>\n",
    "<br>"
   ]
  },
  {
   "cell_type": "markdown",
   "metadata": {
    "id": "CBaPzHP63grG"
   },
   "source": [
    "# <font color='red'>Task 1 </font>"
   ]
  },
  {
   "cell_type": "markdown",
   "metadata": {
    "id": "QfmV3FUgSrBo"
   },
   "source": [
    "## <font color='blue'>Forward propagation </font>"
   ]
  },
  {
   "cell_type": "code",
   "execution_count": 67,
   "metadata": {},
   "outputs": [],
   "source": [
    "def sigmoid(z):\n",
    "    '''In this function, we will compute the sigmoid(z)'''\n",
    "    # we can use this function in forward and backward propagation\n",
    "    sig = 1 / (1 + np.exp(-z))\n",
    "    return sig"
   ]
  },
  {
   "cell_type": "code",
   "execution_count": 68,
   "metadata": {
    "id": "5_pBivcY30qf"
   },
   "outputs": [],
   "source": [
    "def forward_propagation(x, y, w):\n",
    "    '''In this function, we will compute the forward propagation '''\n",
    "    # X: input data point, note that in this assignment you are having 5-d data points\n",
    "    # y: output varible\n",
    "    # W: weight array, its of length 9, W[0] corresponds to w1 in graph, W[1] corresponds to w2 in graph,..., W[8] corresponds to w9 in graph.  \n",
    "    # you have to return the following variables\n",
    "    # exp= part1 (compute the forward propagation until exp and then store the values in exp)\n",
    "    # tanh =part2(compute the forward propagation until tanh and then store the values in tanh)\n",
    "    # sig = part3(compute the forward propagation until sigmoid and then store the values in sig)\n",
    "    # now compute remaining values from computional graph and get y'\n",
    "    # write code to compute the value of L=(y-y')^2\n",
    "    # compute derivative of L  w.r.to Y' and store it in dl\n",
    "    # Create a dictionary to store all the intermediate values\n",
    "    # store L, exp,tanh,sig variables\n",
    "    a = w[0] * x[0]\n",
    "    b = w[1] * x[1]\n",
    "    c = a + b\n",
    "    d = a + b\n",
    "    e = c * d\n",
    "    f = e + w[5]\n",
    "    g = np.exp(f)\n",
    "    h = g + w[6]\n",
    "    i = np.tanh(h)\n",
    "    j = w[2] * x[2]\n",
    "    k = w[3] * x[3]\n",
    "    l = w[4] * x[4] \n",
    "    m = np.sin(j)\n",
    "    n = k + l\n",
    "    o = n * m\n",
    "    p = w[7] + o\n",
    "    q = sigmoid(p)\n",
    "    r = w[8]*q\n",
    "    s = r + i\n",
    "        \n",
    "    y_p = s\n",
    "    loss = (y - y_p) ** 2\n",
    "    dy_pr = -2 * (y - y_p)\n",
    "    d_ = ['loss','dy_pr','exp','tanh','sigmoid','a','b','c','d','e','f','g','h','i','j','k','l','m','n','o','p','q','r','s']\n",
    "    l = [loss,dy_pr,g,i,q,a,b,c,d,e,f,g,h,i,j,k,l,m,n,o,p,q,r,s]\n",
    "    dic = dict(zip(d_, l))\n",
    "    return dic"
   ]
  },
  {
   "cell_type": "markdown",
   "metadata": {
    "id": "z-z1rGKqCHNN"
   },
   "source": [
    "<font color='cyan'>Grader function - 1</font>"
   ]
  },
  {
   "cell_type": "code",
   "execution_count": 69,
   "metadata": {
    "id": "6ZxFF00zBmx1"
   },
   "outputs": [
    {
     "data": {
      "text/plain": [
       "True"
      ]
     },
     "execution_count": 69,
     "metadata": {},
     "output_type": "execute_result"
    }
   ],
   "source": [
    "def grader_sigmoid(z):\n",
    "  val=sigmoid(z)\n",
    "  assert(val==0.8807970779778823)\n",
    "  return True\n",
    "grader_sigmoid(2)"
   ]
  },
  {
   "cell_type": "markdown",
   "metadata": {
    "id": "KgAUXq_aChey"
   },
   "source": [
    "<font color='cyan'>Grader function - 2 </font>"
   ]
  },
  {
   "cell_type": "code",
   "execution_count": 70,
   "metadata": {
    "id": "3uzsUqcjCorN"
   },
   "outputs": [
    {
     "data": {
      "text/plain": [
       "True"
      ]
     },
     "execution_count": 70,
     "metadata": {},
     "output_type": "execute_result"
    }
   ],
   "source": [
    "def grader_forwardprop(data):\n",
    "    dl = (data['dy_pr']==-1.9285278284819143)\n",
    "    loss=(data['loss']==0.9298048963072919)\n",
    "    part1=(data['exp']==1.1272967040973583)\n",
    "    part2=(data['tanh']==0.8417934192562146)\n",
    "    part3=(data['sigmoid']==0.5279179387419721)\n",
    "    assert(dl and loss and part1 and part2 and part3)\n",
    "    return True\n",
    "w=np.ones(9)*0.1\n",
    "d1=forward_propagation(X[0],y[0],w)\n",
    "grader_forwardprop(d1)"
   ]
  },
  {
   "cell_type": "markdown",
   "metadata": {},
   "source": [
    "<br>DIFFERENTIATION\n",
    "<br>dsdi = 1\n",
    "<br>dsdh = dsdi * (1 - np.square(np.tanh(dic['h'])))\n",
    "<br>dsw7 = dsdh * 1\n",
    "<br>dsdg = dsdh * 1\n",
    "<br>dsdf = dsdg * np.exp(dic['f'])\n",
    "<br>dsw6 = dsdf * 1\n",
    "<br>dsde = dsdf * 1\n",
    "<br>dsdc = dsde * dic['d']\n",
    "<br>dsdd = dsde * dic['c']\n",
    "<br>dsda = dsde * (dic['d'] + dic['c'])\n",
    "<br>dsdb = dsde * (dic['d'] + dic['c'])\n",
    "<br>dsw1 = dsda * L[0]\n",
    "<br>dsw2 = dsdb * L[1]\n",
    "<br>dsdr = 1\n",
    "<br>dsdq = dsdr * W[8]\n",
    "<br>dsw9 = dsdr * dic['q']\n",
    "<br>dsdp = dsdq * (sigmoid(dic['p'])*(1 - sigmoid(dic['p'])))\n",
    "<br>dsw8 = dsdp * 1\n",
    "<br>dsdo = dsdp * 1\n",
    "<br>dsdm = dsdo * dic['n']\n",
    "<br>dsdn = dsdo * dic['m']\n",
    "<br>dsdj = dsdm * np.cos(dic['j'])\n",
    "<br>dsw3 = dsdj * L[2]\n",
    "<br>dsdl = dsdn * 1\n",
    "<br>dsdk = dsdn * 1\n",
    "<br>dsw4 = dsdk * L[3]\n",
    "<br>dsw5 = dsdl * L[4]"
   ]
  },
  {
   "cell_type": "markdown",
   "metadata": {
    "id": "obOaAqj3Sxvb"
   },
   "source": [
    "## <font color='blue'>Backward propagation</font>"
   ]
  },
  {
   "cell_type": "code",
   "execution_count": 71,
   "metadata": {},
   "outputs": [],
   "source": [
    "def backward_propagation(L,W,dic):\n",
    "    \n",
    "    dsdi = 1\n",
    "    dsdh = (1 - np.square(np.tanh(dic['h'])))\n",
    "    dsw7 = (1 - np.square(np.tanh(dic['h'])))\n",
    "    dsdg = (1 - np.square(np.tanh(dic['h'])))\n",
    "    dsdf = np.exp(dic['f']) * (1 - np.square(np.tanh(dic['h'])))\n",
    "    dsw6 = np.exp(dic['f']) * (1 - np.square(np.tanh(dic['h'])))\n",
    "    dsde = (1 - np.square(np.tanh(dic['h']))) * np.exp(dic['f'])\n",
    "    dsdc = (1 - np.square(np.tanh(dic['h']))) * np.exp(dic['f']) * dic['d']\n",
    "    dsdd = dic['c'] * (1 - np.square(np.tanh(dic['h']))) * np.exp(dic['f'])\n",
    "    dsda = (dic['d'] + dic['c']) * (1 - np.square(np.tanh(dic['h']))) * np.exp(dic['f'])\n",
    "    dsdb = (dic['d'] + dic['c']) * (1 - np.square(np.tanh(dic['h']))) * np.exp(dic['f'])\n",
    "    dsw1 = L[0] * (dic['d'] + dic['c']) * (1 - np.square(np.tanh(dic['h']))) * np.exp(dic['f']) \n",
    "    dsw2 = (1 - np.square(np.tanh(dic['h']))) * np.exp(dic['f']) * (((dic['d'] + dic['c'])) * L[1])\n",
    "    \n",
    "    dsdr = 1\n",
    "    dsdq = W[8]\n",
    "    dsw9 = dic['q']\n",
    "    dsdp = (sigmoid(dic['p']) * (1 - sigmoid(dic['p']))) * W[8]\n",
    "    \n",
    "    dsw8 = W[8] * (sigmoid(dic['p']) * (1 - sigmoid(dic['p']))) \n",
    "    \n",
    "    dsdo = (sigmoid(dic['p']) * (1 - sigmoid(dic['p']))) * W[8]\n",
    "    dsdm = dic['n'] * (sigmoid(dic['p']) * (1 - sigmoid(dic['p']))) * W[8]\n",
    "    dsdn = dic['m'] * (sigmoid(dic['p']) * (1 - sigmoid(dic['p']))) * W[8]\n",
    "    dsdj = np.cos(dic['j']) * dic['n'] * (sigmoid(dic['p']) * (1 - sigmoid(dic['p']))) * W[8]\n",
    "    dsw3 = L[2] * np.cos(dic['j']) * dic['n'] * (sigmoid(dic['p']) * (1 - sigmoid(dic['p']))) * W[8]\n",
    "    dsdl = dic['m'] * (sigmoid(dic['p']) * (1 - sigmoid(dic['p']))) * W[8]\n",
    "    dsdk = dic['m'] * (sigmoid(dic['p']) * (1 - sigmoid(dic['p']))) * W[8]\n",
    "    dsw4 = dic['m'] * (sigmoid(dic['p']) * (1 - sigmoid(dic['p']))) * W[8] * L[3]\n",
    "    dsw5 = dic['m'] * (sigmoid(dic['p']) * (1 - sigmoid(dic['p']))) * W[8] * L[4]\n",
    "    \n",
    "    dw1 = dic['dy_pr']* dsw1\n",
    "    dw2 = dic['dy_pr']* dsw2\n",
    "    dw3 = dic['dy_pr']* dsw3\n",
    "    dw4 = dic['dy_pr']* dsw4\n",
    "    dw5 = dic['dy_pr']* dsw5\n",
    "    dw6 = dic['dy_pr']* dsw6\n",
    "    dw7 = dic['dy_pr']* dsw7\n",
    "    dw8 = dic['dy_pr']* W[8] * (sigmoid(dic['p']) * (1 - sigmoid(dic['p'])))\n",
    "    dw9 = dic['dy_pr']* dsw9\n",
    "    \n",
    "    dw = {\"dw1\":dw1, \"dw2\":dw2, \"dw3\":dw3, \"dw4\":dw4, \"dw5\":dw5, \"dw6\":dw6, \"dw7\":dw7, \"dw8\":dw8, \"dw9\":dw9}\n",
    "    return dw\n"
   ]
  },
  {
   "cell_type": "code",
   "execution_count": 72,
   "metadata": {
    "scrolled": true
   },
   "outputs": [
    {
     "data": {
      "text/plain": [
       "{'dw1': -0.22973323498702003,\n",
       " 'dw2': -0.021407614717752925,\n",
       " 'dw3': -0.005625405580266319,\n",
       " 'dw4': -0.004657941222712423,\n",
       " 'dw5': -0.0010077228498574246,\n",
       " 'dw6': -0.6334751873437471,\n",
       " 'dw7': -0.561941842854033,\n",
       " 'dw8': -0.04806288407316516,\n",
       " 'dw9': -1.0181044360187037}"
      ]
     },
     "execution_count": 72,
     "metadata": {},
     "output_type": "execute_result"
    }
   ],
   "source": [
    "d1=backward_propagation(X[0],w,d1)\n",
    "d1"
   ]
  },
  {
   "cell_type": "markdown",
   "metadata": {
    "id": "2NpZWAVlS4jb"
   },
   "source": [
    "<font color='cyan'>Grader function - 3 </font>"
   ]
  },
  {
   "cell_type": "code",
   "execution_count": 73,
   "metadata": {
    "id": "1a8Kll2xGhMJ"
   },
   "outputs": [
    {
     "data": {
      "text/plain": [
       "True"
      ]
     },
     "execution_count": 73,
     "metadata": {},
     "output_type": "execute_result"
    }
   ],
   "source": [
    "def grader_backprop(data):\n",
    "    dw1=(data['dw1']==-0.22973323498702003)\n",
    "    dw2=(data['dw2']==-0.021407614717752925)\n",
    "    dw3=(data['dw3']==-0.005625405580266319)\n",
    "    dw4=(data['dw4']==-0.004657941222712423)\n",
    "    dw5=(data['dw5']==-0.0010077228498574246)\n",
    "    dw6=(data['dw6']==-0.6334751873437471)\n",
    "    dw7=(data['dw7']==-0.561941842854033)\n",
    "    dw8=(data['dw8']==-0.04806288407316516)\n",
    "    dw9=(data['dw9']==-1.0181044360187037)\n",
    "    assert(dw1 and dw2 and dw3 and dw4 and dw5 and dw6 and dw7 and dw8 and dw9)\n",
    "    return True \n",
    "w=np.ones(9)*0.1\n",
    "d1=forward_propagation(X[0],y[0],w)\n",
    "d1=backward_propagation(X[0],w,d1)\n",
    "grader_backprop(d1)"
   ]
  },
  {
   "cell_type": "markdown",
   "metadata": {
    "id": "1rfHHXZwgwo6"
   },
   "source": [
    "## <font color='blue'> Implement gradient checking</font>"
   ]
  },
  {
   "cell_type": "code",
   "execution_count": 74,
   "metadata": {},
   "outputs": [],
   "source": [
    "W = np.random.rand(9,)\n",
    "def gradient_checking(data_point, W):\n",
    "    x = datapoint[0]\n",
    "    y = datapoint[1]\n",
    "    \n",
    "    #compute the L value using forward_propagation()\n",
    "    df = forward_propagation(x,y,W)\n",
    "    fL = df['loss'] \n",
    "    \n",
    "    # compute the gradients of W using backword_propagation()\n",
    "    db = backward_propagation(x,W,df) \n",
    "    dW = np.array(list(db.values()))\n",
    "    \n",
    "    approx_gradients = []\n",
    "    \n",
    "    for i in range(len(W)):\n",
    "        \n",
    "        # add a small value to weight wi, and then find the values of L with the updated weights\n",
    "        w_p = W.copy()\n",
    "        w_p[i] = (w_p[i] + 0.0000001)\n",
    "        df_p = forward_propagation(x,y,w_p)\n",
    "        loss_p = df_p['loss']\n",
    "        \n",
    "        # subtract a small value to weight wi, and then find the values of L with the updated weights\n",
    "        w_n = W.copy()\n",
    "        w_n[i] = (w_n[i] - 0.0000001)\n",
    "        df_n = forward_propagation(x,y,w_n)\n",
    "        loss_n = df_n['loss']\n",
    "        \n",
    "        # compute the approximation gradients of weight wi\n",
    "        grad_approx = (loss_p - loss_n) / (2 * 0.0000001)\n",
    "        approx_gradients.append(grad_approx)\n",
    "        \n",
    "    n = np.linalg.norm(dW - approx_gradients)\n",
    "    d = np.linalg.norm(dW) + np.linalg.norm(approx_gradients)\n",
    "    gradient_check = n/d\n",
    "    print(approx_gradients)\n",
    "    \n",
    "    if gradient_check < 1e-7:\n",
    "        print('The gradient is correct')\n",
    "    else:\n",
    "        print('The gradient is wrong')\n",
    "    \n",
    "    return gradient_check"
   ]
  },
  {
   "cell_type": "code",
   "execution_count": 75,
   "metadata": {},
   "outputs": [
    {
     "name": "stdout",
     "output_type": "stream",
     "text": [
      "[-0.11377035258330892, -0.010601652611352819, -0.059473458935421775, -0.012695975104559665, -0.002746710914269812, -0.08130987022569869, -0.06031431937225662, -0.11072690514479788, -0.8142715102188447]\n",
      "The gradient is correct\n",
      "1.322540838341299e-09\n"
     ]
    }
   ],
   "source": [
    "datapoint = []\n",
    "datapoint.append(X[0])\n",
    "datapoint.append(y[0])\n",
    "tr = gradient_checking(datapoint,W)\n",
    "print(tr)"
   ]
  },
  {
   "cell_type": "markdown",
   "metadata": {
    "id": "MhwDSe99kJ32"
   },
   "source": [
    "# <font color='red'>Task 2: Optimizers"
   ]
  },
  {
   "cell_type": "code",
   "execution_count": 76,
   "metadata": {},
   "outputs": [],
   "source": [
    "#Initilze the 9 weights from normal distribution with mean=0 and std=0.01\n",
    "np.random.seed(50)\n",
    "W = np.random.normal(0,0.01,9)\n",
    "W1 = W.copy()\n",
    "W2 = W.copy()\n",
    "L = []"
   ]
  },
  {
   "cell_type": "code",
   "execution_count": 77,
   "metadata": {},
   "outputs": [
    {
     "data": {
      "text/plain": [
       "array([-0.01560352, -0.00030978, -0.00620928, -0.0146458 ,  0.01411946,\n",
       "       -0.00476732, -0.00780469,  0.01070268, -0.01282293])"
      ]
     },
     "execution_count": 77,
     "metadata": {},
     "output_type": "execute_result"
    }
   ],
   "source": [
    "W"
   ]
  },
  {
   "cell_type": "markdown",
   "metadata": {
    "id": "jJzI-vnPk1dB"
   },
   "source": [
    "<font color='blue'>Algorithm with Vanilla update of weights</font>"
   ]
  },
  {
   "cell_type": "code",
   "execution_count": 78,
   "metadata": {},
   "outputs": [],
   "source": [
    "loss = []\n",
    "for epoch in range(100):\n",
    "    for i in range(506):\n",
    "        df = forward_propagation(X[i],y[i],W)\n",
    "        db = backward_propagation(X[i],W,df)\n",
    "        w = [i for i in db.values()]\n",
    "        W = W - (0.01 * np.array(w))\n",
    "    loss.append(df['loss'])\n",
    "L.append(loss)"
   ]
  },
  {
   "cell_type": "code",
   "execution_count": 79,
   "metadata": {},
   "outputs": [
    {
     "data": {
      "text/plain": [
       "array([-0.05147693,  0.0382429 , -0.97065085, -0.69363316, -0.76153571,\n",
       "        0.41714328,  0.33851399,  0.696158  ,  1.13617119])"
      ]
     },
     "execution_count": 79,
     "metadata": {},
     "output_type": "execute_result"
    }
   ],
   "source": [
    "W"
   ]
  },
  {
   "cell_type": "markdown",
   "metadata": {
    "id": "UlTLXrvmlR26"
   },
   "source": [
    "<font color='blue'>Plot between epochs and loss</font>"
   ]
  },
  {
   "cell_type": "code",
   "execution_count": 80,
   "metadata": {
    "id": "CjTCVUIoGhTo"
   },
   "outputs": [
    {
     "data": {
      "text/plain": [
       "Text(0, 0.5, 'loss')"
      ]
     },
     "execution_count": 80,
     "metadata": {},
     "output_type": "execute_result"
    },
    {
     "data": {
      "image/png": "[encoded data removed]",
      "text/plain": [
       "<Figure size 432x288 with 1 Axes>"
      ]
     },
     "metadata": {},
     "output_type": "display_data"
    }
   ],
   "source": [
    "%matplotlib inline\n",
    "import matplotlib.pyplot as plt\n",
    "\n",
    "plt.style.use('seaborn-whitegrid')\n",
    "fig = plt.figure()\n",
    "ax = plt.axes()\n",
    "epoch = [i for i in range(0,100)]\n",
    "ax.plot(epoch,loss,color='red')\n",
    "plt.xlabel('epochs')\n",
    "plt.ylabel('loss')"
   ]
  },
  {
   "cell_type": "markdown",
   "metadata": {
    "id": "cv_hZFWalS2z"
   },
   "source": [
    "<font color='blue'>Algorithm with Momentum update of weights</font>"
   ]
  },
  {
   "cell_type": "code",
   "execution_count": 81,
   "metadata": {},
   "outputs": [
    {
     "data": {
      "text/plain": [
       "array([-0.01560352, -0.00030978, -0.00620928, -0.0146458 ,  0.01411946,\n",
       "       -0.00476732, -0.00780469,  0.01070268, -0.01282293])"
      ]
     },
     "execution_count": 81,
     "metadata": {},
     "output_type": "execute_result"
    }
   ],
   "source": [
    "W1"
   ]
  },
  {
   "cell_type": "code",
   "execution_count": 82,
   "metadata": {
    "id": "uucCdyQrGhZt"
   },
   "outputs": [],
   "source": [
    "loss = []\n",
    "for epoch in range(100):\n",
    "    vt = 0\n",
    "    for i in range(506):\n",
    "        df = forward_propagation(X[i],y[i],W1)\n",
    "        db = backward_propagation(X[i],W1,df)\n",
    "        z = [i for i in db.values()]\n",
    "        vt = (0.9 * vt) + (0.01 * np.array(z)) \n",
    "        W1 = W1 - vt\n",
    "    loss.append(df['loss'])\n",
    "L.append(loss)"
   ]
  },
  {
   "cell_type": "code",
   "execution_count": 83,
   "metadata": {},
   "outputs": [
    {
     "data": {
      "text/plain": [
       "array([-0.03058356,  0.02467231,  1.0013196 ,  0.99046882,  0.98558423,\n",
       "        0.73478543,  0.65462218,  1.00238948,  1.00981164])"
      ]
     },
     "execution_count": 83,
     "metadata": {},
     "output_type": "execute_result"
    }
   ],
   "source": [
    "W1"
   ]
  },
  {
   "cell_type": "markdown",
   "metadata": {
    "id": "Ow20azfKlVhn"
   },
   "source": [
    "<font color='blue'>Plot between epochs and loss</font>"
   ]
  },
  {
   "cell_type": "code",
   "execution_count": 84,
   "metadata": {
    "id": "u-m90Sq_Ghce"
   },
   "outputs": [
    {
     "data": {
      "text/plain": [
       "Text(0, 0.5, 'loss')"
      ]
     },
     "execution_count": 84,
     "metadata": {},
     "output_type": "execute_result"
    },
    {
     "data": {
      "image/png": "[encoded data removed]",
      "text/plain": [
       "<Figure size 432x288 with 1 Axes>"
      ]
     },
     "metadata": {},
     "output_type": "display_data"
    }
   ],
   "source": [
    "plt.style.use('seaborn-whitegrid')\n",
    "fig = plt.figure()\n",
    "ax = plt.axes()\n",
    "epoch = [i for i in range(0,100)]\n",
    "ax.plot(epoch,loss,color='red')\n",
    "plt.xlabel('epochs')\n",
    "plt.ylabel('loss')"
   ]
  },
  {
   "cell_type": "markdown",
   "metadata": {
    "id": "V4RWWrZ7lWap"
   },
   "source": [
    "###<font color='blue'>Algorithm with Adam update of weights</font>"
   ]
  },
  {
   "cell_type": "code",
   "execution_count": 85,
   "metadata": {},
   "outputs": [
    {
     "data": {
      "text/plain": [
       "array([-0.01560352, -0.00030978, -0.00620928, -0.0146458 ,  0.01411946,\n",
       "       -0.00476732, -0.00780469,  0.01070268, -0.01282293])"
      ]
     },
     "execution_count": 85,
     "metadata": {},
     "output_type": "execute_result"
    }
   ],
   "source": [
    "W2"
   ]
  },
  {
   "cell_type": "code",
   "execution_count": 86,
   "metadata": {},
   "outputs": [],
   "source": [
    "loss = []\n",
    "for epoch in range(100):\n",
    "    mt = 0\n",
    "    vt = 0\n",
    "    for i in range(506):\n",
    "        df = forward_propagation(X[i],y[i],W2)\n",
    "        db = backward_propagation(X[i],W2,df)\n",
    "        w = [i for i in db.values()]\n",
    "        mt = (0.9 * mt) + (1-0.9) * (np.array(w))\n",
    "        vt = (0.99 * vt) + (1-0.99)*np.square(np.array(w))\n",
    "        mt_ = mt / (1-(0.9)**i + 0.00001)\n",
    "        vt_ = vt / (1-(0.99)**i + 0.00001)\n",
    "        W2 = W2 - ((0.001 * mt_)/(np.sqrt(vt_) + 0.00001))\n",
    "    loss.append(df['loss'])\n",
    "L.append(loss)"
   ]
  },
  {
   "cell_type": "code",
   "execution_count": 87,
   "metadata": {},
   "outputs": [
    {
     "data": {
      "text/plain": [
       "array([-0.72181908, -1.61545401,  0.79604853,  0.94209313,  0.83709565,\n",
       "        1.73024915,  1.53981677,  1.00960194,  1.01833722])"
      ]
     },
     "execution_count": 87,
     "metadata": {},
     "output_type": "execute_result"
    }
   ],
   "source": [
    "W2"
   ]
  },
  {
   "cell_type": "markdown",
   "metadata": {
    "id": "MMy0nBw-lXml"
   },
   "source": [
    "<font color='blue'>Plot between epochs and loss</font>"
   ]
  },
  {
   "cell_type": "code",
   "execution_count": 88,
   "metadata": {
    "id": "aiFRk_uFlm2V"
   },
   "outputs": [
    {
     "data": {
      "text/plain": [
       "Text(0, 0.5, 'loss')"
      ]
     },
     "execution_count": 88,
     "metadata": {},
     "output_type": "execute_result"
    },
    {
     "data": {
      "image/png": "[encoded data removed]",
      "text/plain": [
       "<Figure size 432x288 with 1 Axes>"
      ]
     },
     "metadata": {},
     "output_type": "display_data"
    }
   ],
   "source": [
    "plt.style.use('seaborn-whitegrid')\n",
    "fig = plt.figure()\n",
    "ax = plt.axes()\n",
    "epoch = [i for i in range(0,100)]\n",
    "ax.plot(epoch,loss,color='red')\n",
    "plt.xlabel('epochs')\n",
    "plt.ylabel('loss')"
   ]
  },
  {
   "cell_type": "markdown",
   "metadata": {
    "id": "7627cy8YlnYO"
   },
   "source": [
    "<font color='blue'>Comparision plot between epochs and loss with different optimizers</font>"
   ]
  },
  {
   "cell_type": "code",
   "execution_count": 89,
   "metadata": {
    "id": "lfXSaOP8rjBY"
   },
   "outputs": [
    {
     "data": {
      "text/plain": [
       "<matplotlib.legend.Legend at 0x233abd1ffa0>"
      ]
     },
     "execution_count": 89,
     "metadata": {},
     "output_type": "execute_result"
    },
    {
     "data": {
      "image/png": "[encoded data removed]",
      "text/plain": [
       "<Figure size 432x288 with 1 Axes>"
      ]
     },
     "metadata": {},
     "output_type": "display_data"
    }
   ],
   "source": [
    "fig,ax = plt.subplots(1,1)\n",
    "ax.set_xlabel('epoch') ; ax.set_ylabel('loss')\n",
    "plt.plot(epoch,L[0])\n",
    "plt.plot(epoch,L[1])\n",
    "plt.plot(epoch,L[2])\n",
    "plt.legend(['Vanilla', 'Momentum','Adam'], loc='upper right')"
   ]
  },
  {
   "cell_type": "code",
   "execution_count": null,
   "metadata": {},
   "outputs": [],
   "source": []
  }
 ],
 "metadata": {
  "colab": {
   "collapsed_sections": [],
   "name": "Backpropagation_assignment.ipynb",
   "provenance": []
  },
  "kernelspec": {
   "display_name": "Python 3",
   "language": "python",
   "name": "python3"
  },
  "language_info": {
   "codemirror_mode": {
    "name": "ipython",
    "version": 3
   },
   "file_extension": ".py",
   "mimetype": "text/x-python",
   "name": "python",
   "nbconvert_exporter": "python",
   "pygments_lexer": "ipython3",
   "version": "3.8.8"
  }
 },
 "nbformat": 4,
 "nbformat_minor": 1
}
